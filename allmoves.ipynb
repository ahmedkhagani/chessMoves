{
 "cells": [
  {
   "cell_type": "code",
   "execution_count": 1,
   "metadata": {},
   "outputs": [],
   "source": [
    "class rook():\n",
    "    def __init__(rook ,name ,clr ,clc ,mup ,mrt ,mdn ,mlt ,nupr ,nupc ,nrtr ,nrtc ,ndnr ,ndnc ,nltr ,nltc ):\n",
    "        rook.name=name\n",
    "        rook.clr=clr\n",
    "        rook.clc=clc\n",
    "        rook.mup=mup=7-clr\n",
    "        rook.mrt=mrt=7-clc\n",
    "        rook.mdn=mdn=clr\n",
    "        rook.mlt=mlt=clc\n",
    "        rook.nupr=nupr=clr\n",
    "        rook.nupc=nupc=clc\n",
    "        rook.nrtr=nrtr=clr\n",
    "        rook.nrtc=nrtc=clc\n",
    "        rook.ndnr=ndnr=clr\n",
    "        rook.ndnc=ndnc=clc\n",
    "        rook.nltr=nltr=clr\n",
    "        rook.nltc=nltc=clc"
   ]
  },
  {
   "cell_type": "code",
   "execution_count": 2,
   "metadata": {},
   "outputs": [],
   "source": [
    "wrook1=rook(\"wrook1\" ,3 ,4 ,0 ,0 ,0 ,0 ,0 ,0 ,0 ,0 ,0 ,0 ,0 ,0)\n",
    "wrook2=rook(\"wrook2\" ,4 ,6 ,0 ,0 ,0 ,0 ,0 ,0 ,0 ,0 ,0 ,0 ,0 ,0)\n",
    "brook1=rook(\"brook1\" ,6 ,0 ,0 ,0 ,0 ,0 ,0 ,0 ,0 ,0 ,0 ,0 ,0 ,0)\n",
    "brook2=rook(\"brook2\" ,5 ,7 ,0 ,0 ,0 ,0 ,0 ,0 ,0 ,0 ,0 ,0 ,0 ,0)\n",
    "wrook3=rook(\"wrook3\" ,4 ,2 ,0 ,0 ,0 ,0 ,0 ,0 ,0 ,0 ,0 ,0 ,0 ,0)\n",
    "wrook4=rook(\"wrook4\" ,4 ,6 ,0 ,0 ,0 ,0 ,0 ,0 ,0 ,0 ,0 ,0 ,0 ,0)"
   ]
  },
  {
   "cell_type": "code",
   "execution_count": 3,
   "metadata": {},
   "outputs": [],
   "source": [
    "mv=[wrook1 ,wrook2]\n",
    "amv=[brook1 ,brook2]\n",
    "aamv=[wrook3 ,wrook4]\n",
    "i=0\n",
    "ii=len(mv)\n",
    "j=0\n",
    "jj=len(amv)\n",
    "k=0\n",
    "kk=len(aamv)"
   ]
  },
  {
   "cell_type": "code",
   "execution_count": 4,
   "metadata": {},
   "outputs": [],
   "source": [
    "cmv=[]\n",
    "camv=[]\n",
    "caamv=[]\n",
    "cntamv=False\n",
    "cntaamv=False\n",
    "pcedict={}\n",
    "movedict={}\n",
    "wrook1.pcedict=1\n",
    "wrook2.pcedict=1\n",
    "brook1.pcedict=1\n",
    "brook2.pcedict=1\n",
    "wrook3.pcedict=1\n",
    "wrook4.pcedict=1\n",
    "wrook1.movedict=1\n",
    "wrook2.movedict=1\n",
    "brook1.movedict=2\n",
    "brook2.movedict=2\n",
    "wrook3.movedict=3\n",
    "wrook4.movedict=3\n",
    "playpc=0\n",
    "pc11=0\n",
    "pc22=0\n",
    "pc33=0\n",
    "getx=True\n",
    "gety=True\n",
    "getz=False\n",
    "lista=[]\n",
    "countlist=True\n",
    "countfinallist=False"
   ]
  },
  {
   "cell_type": "code",
   "execution_count": 5,
   "metadata": {},
   "outputs": [],
   "source": [
    "while countlist==True or countfinallist==True:\n",
    "    if countlist==True:\n",
    "        while ii>0 or cntamv==True or cntaamv==True:\n",
    "            if ii>0:\n",
    "                playpc=mv[i]\n",
    "            if cntamv==True:\n",
    "                if jj>0:\n",
    "                    playpc=amv[j]\n",
    "            if cntaamv==True:\n",
    "                if kk>0:\n",
    "                    playpc=aamv[k]\n",
    "            if playpc.pcedict==1:\n",
    "                if playpc.mup>0:\n",
    "                    playpc.nupr+=1\n",
    "                    playpc.mup-=1\n",
    "                    if playpc.movedict==1:\n",
    "                        cmv.append((playpc.name ,playpc.nupr ,playpc.clc))\n",
    "                        if playpc.mup<=0:\n",
    "                            i+=1\n",
    "                            ii-=1\n",
    "                    if playpc.movedict==2:\n",
    "                        camv.append((playpc.name ,playpc.nupr ,playpc.clc))\n",
    "                        if playpc.mup<=0:\n",
    "                            j+=1\n",
    "                            jj-=1\n",
    "                    if playpc.movedict==3:\n",
    "                        caamv.append((playpc.name ,playpc.nupr ,playpc.clc))\n",
    "                        if playpc.mup<=0:\n",
    "                            k+=1\n",
    "                            kk-=1\n",
    "            if ii==0:\n",
    "                cntamv=True\n",
    "            if jj==0: \n",
    "                cntaamv=True\n",
    "                cntamv=False\n",
    "            if kk==0:\n",
    "                cntaamv=False\n",
    "                countlist=False\n",
    "                countfinallist=True\n",
    "    if countfinallist==True:\n",
    "        if ii==0 and getx==True:\n",
    "            x=0\n",
    "            xx=len(cmv)\n",
    "            getx=False\n",
    "        if jj==0 and gety==True:\n",
    "            y=0\n",
    "            yy=len(camv)\n",
    "            gety=False\n",
    "        z=0\n",
    "        zz=len(caamv)\n",
    "        while zz> 0:\n",
    "            pc11=cmv[x]\n",
    "            pc22=camv[y]\n",
    "            pc33=caamv[z]\n",
    "            lista.append((pc11 ,pc22 ,pc33))\n",
    "            z+=1\n",
    "            zz-=1\n",
    "            countlist=True\n",
    "            countfinallist=False\n",
    "            if zz<=0:\n",
    "                cntaamv=True\n",
    "                y+=1\n",
    "                yy-=1\n",
    "            if yy<=0:\n",
    "                gety=True\n",
    "                cntamv=True\n",
    "                cntaamv=False\n",
    "                x+=1\n",
    "                xx-=1\n",
    "            if xx<=0:\n",
    "                cntamv=False\n",
    "                countlist=False"
   ]
  },
  {
   "cell_type": "code",
   "execution_count": 6,
   "metadata": {
    "scrolled": true
   },
   "outputs": [
    {
     "name": "stdout",
     "output_type": "stream",
     "text": [
      "[(('wrook1', 4, 4), ('brook1', 7, 0), ('wrook3', 5, 2)), (('wrook1', 4, 4), ('brook1', 7, 0), ('wrook3', 6, 2)), (('wrook1', 4, 4), ('brook1', 7, 0), ('wrook3', 7, 2)), (('wrook1', 4, 4), ('brook1', 7, 0), ('wrook4', 5, 6)), (('wrook1', 4, 4), ('brook1', 7, 0), ('wrook4', 6, 6)), (('wrook1', 4, 4), ('brook1', 7, 0), ('wrook4', 7, 6)), (('wrook1', 4, 4), ('brook2', 6, 7), ('wrook3', 5, 2)), (('wrook1', 4, 4), ('brook2', 6, 7), ('wrook3', 6, 2)), (('wrook1', 4, 4), ('brook2', 6, 7), ('wrook3', 7, 2)), (('wrook1', 4, 4), ('brook2', 6, 7), ('wrook4', 5, 6)), (('wrook1', 4, 4), ('brook2', 6, 7), ('wrook4', 6, 6)), (('wrook1', 4, 4), ('brook2', 6, 7), ('wrook4', 7, 6)), (('wrook1', 4, 4), ('brook2', 7, 7), ('wrook3', 5, 2)), (('wrook1', 4, 4), ('brook2', 7, 7), ('wrook3', 6, 2)), (('wrook1', 4, 4), ('brook2', 7, 7), ('wrook3', 7, 2)), (('wrook1', 4, 4), ('brook2', 7, 7), ('wrook4', 5, 6)), (('wrook1', 4, 4), ('brook2', 7, 7), ('wrook4', 6, 6)), (('wrook1', 4, 4), ('brook2', 7, 7), ('wrook4', 7, 6)), (('wrook1', 5, 4), ('brook1', 7, 0), ('wrook3', 5, 2)), (('wrook1', 5, 4), ('brook1', 7, 0), ('wrook3', 6, 2)), (('wrook1', 5, 4), ('brook1', 7, 0), ('wrook3', 7, 2)), (('wrook1', 5, 4), ('brook1', 7, 0), ('wrook4', 5, 6)), (('wrook1', 5, 4), ('brook1', 7, 0), ('wrook4', 6, 6)), (('wrook1', 5, 4), ('brook1', 7, 0), ('wrook4', 7, 6)), (('wrook1', 5, 4), ('brook2', 6, 7), ('wrook3', 5, 2)), (('wrook1', 5, 4), ('brook2', 6, 7), ('wrook3', 6, 2)), (('wrook1', 5, 4), ('brook2', 6, 7), ('wrook3', 7, 2)), (('wrook1', 5, 4), ('brook2', 6, 7), ('wrook4', 5, 6)), (('wrook1', 5, 4), ('brook2', 6, 7), ('wrook4', 6, 6)), (('wrook1', 5, 4), ('brook2', 6, 7), ('wrook4', 7, 6)), (('wrook1', 5, 4), ('brook2', 7, 7), ('wrook3', 5, 2)), (('wrook1', 5, 4), ('brook2', 7, 7), ('wrook3', 6, 2)), (('wrook1', 5, 4), ('brook2', 7, 7), ('wrook3', 7, 2)), (('wrook1', 5, 4), ('brook2', 7, 7), ('wrook4', 5, 6)), (('wrook1', 5, 4), ('brook2', 7, 7), ('wrook4', 6, 6)), (('wrook1', 5, 4), ('brook2', 7, 7), ('wrook4', 7, 6)), (('wrook1', 6, 4), ('brook1', 7, 0), ('wrook3', 5, 2)), (('wrook1', 6, 4), ('brook1', 7, 0), ('wrook3', 6, 2)), (('wrook1', 6, 4), ('brook1', 7, 0), ('wrook3', 7, 2)), (('wrook1', 6, 4), ('brook1', 7, 0), ('wrook4', 5, 6)), (('wrook1', 6, 4), ('brook1', 7, 0), ('wrook4', 6, 6)), (('wrook1', 6, 4), ('brook1', 7, 0), ('wrook4', 7, 6)), (('wrook1', 6, 4), ('brook2', 6, 7), ('wrook3', 5, 2)), (('wrook1', 6, 4), ('brook2', 6, 7), ('wrook3', 6, 2)), (('wrook1', 6, 4), ('brook2', 6, 7), ('wrook3', 7, 2)), (('wrook1', 6, 4), ('brook2', 6, 7), ('wrook4', 5, 6)), (('wrook1', 6, 4), ('brook2', 6, 7), ('wrook4', 6, 6)), (('wrook1', 6, 4), ('brook2', 6, 7), ('wrook4', 7, 6)), (('wrook1', 6, 4), ('brook2', 7, 7), ('wrook3', 5, 2)), (('wrook1', 6, 4), ('brook2', 7, 7), ('wrook3', 6, 2)), (('wrook1', 6, 4), ('brook2', 7, 7), ('wrook3', 7, 2)), (('wrook1', 6, 4), ('brook2', 7, 7), ('wrook4', 5, 6)), (('wrook1', 6, 4), ('brook2', 7, 7), ('wrook4', 6, 6)), (('wrook1', 6, 4), ('brook2', 7, 7), ('wrook4', 7, 6)), (('wrook1', 7, 4), ('brook1', 7, 0), ('wrook3', 5, 2)), (('wrook1', 7, 4), ('brook1', 7, 0), ('wrook3', 6, 2)), (('wrook1', 7, 4), ('brook1', 7, 0), ('wrook3', 7, 2)), (('wrook1', 7, 4), ('brook1', 7, 0), ('wrook4', 5, 6)), (('wrook1', 7, 4), ('brook1', 7, 0), ('wrook4', 6, 6)), (('wrook1', 7, 4), ('brook1', 7, 0), ('wrook4', 7, 6)), (('wrook1', 7, 4), ('brook2', 6, 7), ('wrook3', 5, 2)), (('wrook1', 7, 4), ('brook2', 6, 7), ('wrook3', 6, 2)), (('wrook1', 7, 4), ('brook2', 6, 7), ('wrook3', 7, 2)), (('wrook1', 7, 4), ('brook2', 6, 7), ('wrook4', 5, 6)), (('wrook1', 7, 4), ('brook2', 6, 7), ('wrook4', 6, 6)), (('wrook1', 7, 4), ('brook2', 6, 7), ('wrook4', 7, 6)), (('wrook1', 7, 4), ('brook2', 7, 7), ('wrook3', 5, 2)), (('wrook1', 7, 4), ('brook2', 7, 7), ('wrook3', 6, 2)), (('wrook1', 7, 4), ('brook2', 7, 7), ('wrook3', 7, 2)), (('wrook1', 7, 4), ('brook2', 7, 7), ('wrook4', 5, 6)), (('wrook1', 7, 4), ('brook2', 7, 7), ('wrook4', 6, 6)), (('wrook1', 7, 4), ('brook2', 7, 7), ('wrook4', 7, 6)), (('wrook2', 5, 6), ('brook1', 7, 0), ('wrook3', 5, 2)), (('wrook2', 5, 6), ('brook1', 7, 0), ('wrook3', 6, 2)), (('wrook2', 5, 6), ('brook1', 7, 0), ('wrook3', 7, 2)), (('wrook2', 5, 6), ('brook1', 7, 0), ('wrook4', 5, 6)), (('wrook2', 5, 6), ('brook1', 7, 0), ('wrook4', 6, 6)), (('wrook2', 5, 6), ('brook1', 7, 0), ('wrook4', 7, 6)), (('wrook2', 5, 6), ('brook2', 6, 7), ('wrook3', 5, 2)), (('wrook2', 5, 6), ('brook2', 6, 7), ('wrook3', 6, 2)), (('wrook2', 5, 6), ('brook2', 6, 7), ('wrook3', 7, 2)), (('wrook2', 5, 6), ('brook2', 6, 7), ('wrook4', 5, 6)), (('wrook2', 5, 6), ('brook2', 6, 7), ('wrook4', 6, 6)), (('wrook2', 5, 6), ('brook2', 6, 7), ('wrook4', 7, 6)), (('wrook2', 5, 6), ('brook2', 7, 7), ('wrook3', 5, 2)), (('wrook2', 5, 6), ('brook2', 7, 7), ('wrook3', 6, 2)), (('wrook2', 5, 6), ('brook2', 7, 7), ('wrook3', 7, 2)), (('wrook2', 5, 6), ('brook2', 7, 7), ('wrook4', 5, 6)), (('wrook2', 5, 6), ('brook2', 7, 7), ('wrook4', 6, 6)), (('wrook2', 5, 6), ('brook2', 7, 7), ('wrook4', 7, 6)), (('wrook2', 6, 6), ('brook1', 7, 0), ('wrook3', 5, 2)), (('wrook2', 6, 6), ('brook1', 7, 0), ('wrook3', 6, 2)), (('wrook2', 6, 6), ('brook1', 7, 0), ('wrook3', 7, 2)), (('wrook2', 6, 6), ('brook1', 7, 0), ('wrook4', 5, 6)), (('wrook2', 6, 6), ('brook1', 7, 0), ('wrook4', 6, 6)), (('wrook2', 6, 6), ('brook1', 7, 0), ('wrook4', 7, 6)), (('wrook2', 6, 6), ('brook2', 6, 7), ('wrook3', 5, 2)), (('wrook2', 6, 6), ('brook2', 6, 7), ('wrook3', 6, 2)), (('wrook2', 6, 6), ('brook2', 6, 7), ('wrook3', 7, 2)), (('wrook2', 6, 6), ('brook2', 6, 7), ('wrook4', 5, 6)), (('wrook2', 6, 6), ('brook2', 6, 7), ('wrook4', 6, 6)), (('wrook2', 6, 6), ('brook2', 6, 7), ('wrook4', 7, 6)), (('wrook2', 6, 6), ('brook2', 7, 7), ('wrook3', 5, 2)), (('wrook2', 6, 6), ('brook2', 7, 7), ('wrook3', 6, 2)), (('wrook2', 6, 6), ('brook2', 7, 7), ('wrook3', 7, 2)), (('wrook2', 6, 6), ('brook2', 7, 7), ('wrook4', 5, 6)), (('wrook2', 6, 6), ('brook2', 7, 7), ('wrook4', 6, 6)), (('wrook2', 6, 6), ('brook2', 7, 7), ('wrook4', 7, 6)), (('wrook2', 7, 6), ('brook1', 7, 0), ('wrook3', 5, 2)), (('wrook2', 7, 6), ('brook1', 7, 0), ('wrook3', 6, 2)), (('wrook2', 7, 6), ('brook1', 7, 0), ('wrook3', 7, 2)), (('wrook2', 7, 6), ('brook1', 7, 0), ('wrook4', 5, 6)), (('wrook2', 7, 6), ('brook1', 7, 0), ('wrook4', 6, 6)), (('wrook2', 7, 6), ('brook1', 7, 0), ('wrook4', 7, 6)), (('wrook2', 7, 6), ('brook2', 6, 7), ('wrook3', 5, 2)), (('wrook2', 7, 6), ('brook2', 6, 7), ('wrook3', 6, 2)), (('wrook2', 7, 6), ('brook2', 6, 7), ('wrook3', 7, 2)), (('wrook2', 7, 6), ('brook2', 6, 7), ('wrook4', 5, 6)), (('wrook2', 7, 6), ('brook2', 6, 7), ('wrook4', 6, 6)), (('wrook2', 7, 6), ('brook2', 6, 7), ('wrook4', 7, 6)), (('wrook2', 7, 6), ('brook2', 7, 7), ('wrook3', 5, 2)), (('wrook2', 7, 6), ('brook2', 7, 7), ('wrook3', 6, 2)), (('wrook2', 7, 6), ('brook2', 7, 7), ('wrook3', 7, 2)), (('wrook2', 7, 6), ('brook2', 7, 7), ('wrook4', 5, 6)), (('wrook2', 7, 6), ('brook2', 7, 7), ('wrook4', 6, 6)), (('wrook2', 7, 6), ('brook2', 7, 7), ('wrook4', 7, 6))]\n"
     ]
    }
   ],
   "source": [
    "print(lista)"
   ]
  },
  {
   "cell_type": "code",
   "execution_count": 7,
   "metadata": {},
   "outputs": [
    {
     "name": "stdout",
     "output_type": "stream",
     "text": [
      "126\n"
     ]
    }
   ],
   "source": [
    "print(len(lista))"
   ]
  },
  {
   "cell_type": "code",
   "execution_count": null,
   "metadata": {},
   "outputs": [],
   "source": []
  }
 ],
 "metadata": {
  "kernelspec": {
   "display_name": "Python 3",
   "language": "python",
   "name": "python3"
  },
  "language_info": {
   "codemirror_mode": {
    "name": "ipython",
    "version": 3
   },
   "file_extension": ".py",
   "mimetype": "text/x-python",
   "name": "python",
   "nbconvert_exporter": "python",
   "pygments_lexer": "ipython3",
   "version": "3.8.5"
  }
 },
 "nbformat": 4,
 "nbformat_minor": 4
}
